{
 "cells": [
  {
   "cell_type": "code",
   "execution_count": 1,
   "metadata": {
    "slideshow": {
     "slide_type": "slide"
    }
   },
   "outputs": [],
   "source": [
    "%load_ext autoreload\n",
    "%autoreload 2\n",
    "import numpy as np"
   ]
  },
  {
   "cell_type": "markdown",
   "metadata": {},
   "source": [
    "# Wine quality prediction"
   ]
  },
  {
   "cell_type": "markdown",
   "metadata": {},
   "source": [
    "In this notebook it is your task to implement linear regression as discussed in the lecture using NumPy.\n",
    "\n",
    "The wine dataset is provided by:\n",
    "<br>\n",
    "P. Cortez, A. Cerdeira, F. Almeida, T. Matos and J. Reis: \"Modeling wine preferences by data mining from physicochemical properties\", in Decision Support Systems, Elsevier, 47(4):547-553, 2009. The dataset is available at http://www3.dsi.uminho.pt/pcortez/wine/. The data"
   ]
  },
  {
   "cell_type": "markdown",
   "metadata": {},
   "source": [
    "Implement the functions ```load_data```, ```fit```, ```predict``` and ```energy``` according to the instructions in ```linear_reg.py```. Test your code by running the cells below."
   ]
  },
  {
   "cell_type": "code",
   "execution_count": 2,
   "metadata": {},
   "outputs": [],
   "source": [
    "import linreg # import your code"
   ]
  },
  {
   "cell_type": "markdown",
   "metadata": {},
   "source": [
    "First, load the data matirces from the ```.csv``` files:"
   ]
  },
  {
   "cell_type": "code",
   "execution_count": 3,
   "metadata": {},
   "outputs": [],
   "source": [
    "num_train = 3674\n",
    "num_test = 1224\n",
    "path = \"winequality/winequality-white.csv\"\n",
    "\n",
    "# load data matrices\n",
    "X_train, Y_train, X_test, Y_test = linreg.load_data(path, num_train)"
   ]
  },
  {
   "cell_type": "markdown",
   "metadata": {},
   "source": [
    "Throughout this course we will provide you with assertion blocks like the following testing your implementation. If those assertions throw an error your code doesn't behave as expected. If there is no output, your code is very likely correct! However, we will use different data for the final grading, so this is no guarantee."
   ]
  },
  {
   "cell_type": "code",
   "execution_count": 4,
   "metadata": {},
   "outputs": [],
   "source": [
    "# test your implementation\n",
    "assert X_train.shape == (3674, 11), \"Wrong shape of X_train!\"\n",
    "assert X_train[2, 3] == 6.9, \"Wrong data in X_train!\"\n",
    "assert X_test.shape == (1224, 11), \"Wrong shape of X_test!\"\n",
    "assert X_test[8, 9] == 0.75, \"Wrong data in X_test!\""
   ]
  },
  {
   "cell_type": "markdown",
   "metadata": {},
   "source": [
    "Now let's fit a linear regression model to the data"
   ]
  },
  {
   "cell_type": "code",
   "execution_count": 5,
   "metadata": {},
   "outputs": [
    {
     "name": "stdout",
     "output_type": "stream",
     "text": [
      "Fitted weights:\n",
      "[ 3.64040979e-02 -1.67441778e+00 -3.28922992e-02  7.91544705e-02\n",
      "  7.67022760e-03  5.09975144e-03 -2.91875855e-04 -1.47662461e+02\n",
      "  7.11452522e-01  8.06378156e-01  2.35282422e-01  1.47153125e+02]\n"
     ]
    }
   ],
   "source": [
    "# fit training data\n",
    "theta = linreg.fit(X_train, Y_train)\n",
    "\n",
    "print(\"Fitted weights:\")\n",
    "print(theta)"
   ]
  },
  {
   "cell_type": "code",
   "execution_count": 6,
   "metadata": {},
   "outputs": [],
   "source": [
    "# test your implementation\n",
    "np.random.seed(0)\n",
    "X_ass = np.random.randn(10, 5)\n",
    "Y_ass = np.random.randn(10)\n",
    "theta_ass = linreg.fit(X_ass, Y_ass)\n",
    "assert np.abs(theta_ass[0] + 0.20) <= 1e-2, \"Wrong value of theta!\""
   ]
  },
  {
   "cell_type": "markdown",
   "metadata": {},
   "source": [
    "Finally, we test the linear inference behavior of your model."
   ]
  },
  {
   "cell_type": "code",
   "execution_count": 7,
   "metadata": {},
   "outputs": [
    {
     "name": "stdout",
     "output_type": "stream",
     "text": [
      "MSE loss on test data: 0.5338762543616147\n"
     ]
    }
   ],
   "source": [
    "# perform prediction on the test set\n",
    "Y_pred = linreg.predict(X_test, theta)\n",
    "en = linreg.energy(Y_pred, Y_test)\n",
    "print(f\"MSE loss on test data: {en / num_test}\") # printing the MSE loss"
   ]
  },
  {
   "cell_type": "code",
   "execution_count": 8,
   "metadata": {},
   "outputs": [],
   "source": [
    "# test your implementation\n",
    "np.random.seed(0)\n",
    "pred_ass = linreg.predict(np.random.randn(5, 4),\n",
    "                          np.random.randn(5))\n",
    "en_ass = linreg.energy(np.random.randn(3), np.random.randn(3))\n",
    "assert np.abs(pred_ass[0] + 2.7894) <= 1e-4, \"Wrong prediction!\"\n",
    "assert np.abs(en_ass - 11.0667) <= 1e-4, \"Wrong energy!\""
   ]
  },
  {
   "cell_type": "code",
   "execution_count": null,
   "metadata": {},
   "outputs": [],
   "source": []
  }
 ],
 "metadata": {
  "celltoolbar": "Slideshow",
  "kernelspec": {
   "display_name": "Python 3 (ipykernel)",
   "language": "python",
   "name": "python3"
  },
  "language_info": {
   "codemirror_mode": {
    "name": "ipython",
    "version": 3
   },
   "file_extension": ".py",
   "mimetype": "text/x-python",
   "name": "python",
   "nbconvert_exporter": "python",
   "pygments_lexer": "ipython3",
   "version": "3.11.5"
  }
 },
 "nbformat": 4,
 "nbformat_minor": 2
}
