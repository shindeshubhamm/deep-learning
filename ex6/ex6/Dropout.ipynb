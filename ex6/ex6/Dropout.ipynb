{
 "cells": [
  {
   "cell_type": "code",
   "execution_count": 15,
   "metadata": {},
   "outputs": [
    {
     "name": "stdout",
     "output_type": "stream",
     "text": [
      "The autoreload extension is already loaded. To reload it, use:\n",
      "  %reload_ext autoreload\n"
     ]
    }
   ],
   "source": [
    "%load_ext autoreload\n",
    "%autoreload 2\n",
    "\n",
    "import torch\n",
    "from modules import Dropout"
   ]
  },
  {
   "cell_type": "markdown",
   "metadata": {},
   "source": [
    "# Dropout [2 points]"
   ]
  },
  {
   "cell_type": "markdown",
   "metadata": {},
   "source": [
    "Implement the class ``Dropout`` in ``modules.py`` and test your implementation:"
   ]
  },
  {
   "cell_type": "code",
   "execution_count": 16,
   "metadata": {},
   "outputs": [],
   "source": [
    "b, c = 10, 1000\n",
    "x = torch.ones(b, c, requires_grad=True)\n",
    "dropout = Dropout()\n",
    "x_do = dropout(x)\n",
    "res = x_do.sum()\n",
    "res.backward()\n",
    "assert ((res.detach() / (b * c) - 1).abs() < 1e-2 and\n",
    "       (x.grad.mean() - 1).abs() < 1e-2 and\n",
    "       ((x_do == 0).double().mean() - 0.1).abs() < 1e-2), \\\n",
    "       \"Training mode incorrect!\"\n",
    "dropout.eval()\n",
    "x_do = dropout(x.detach())\n",
    "assert (x_do - x).abs().sum() < 1e-6, \\\n",
    "       \"Inference mode incorrect!\""
   ]
  },
  {
   "cell_type": "code",
   "execution_count": null,
   "metadata": {},
   "outputs": [],
   "source": []
  }
 ],
 "metadata": {
  "kernelspec": {
   "display_name": "Python 3 (dl)",
   "language": "python",
   "name": "dl"
  },
  "language_info": {
   "codemirror_mode": {
    "name": "ipython",
    "version": 3
   },
   "file_extension": ".py",
   "mimetype": "text/x-python",
   "name": "python",
   "nbconvert_exporter": "python",
   "pygments_lexer": "ipython3",
   "version": "3.11.5"
  }
 },
 "nbformat": 4,
 "nbformat_minor": 2
}
